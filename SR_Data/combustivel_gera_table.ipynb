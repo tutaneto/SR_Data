{
 "cells": [
  {
   "cell_type": "markdown",
   "metadata": {},
   "source": [
    "Links:\n",
    "- https://www.gov.br/anp/pt-br/assuntos/precos-e-defesa-da-concorrencia/precos/sintese-semanal-do-comportamento-dos-precos-dos-combustiveis\n",
    "- https://preco.anp.gov.br/\n",
    "- https://abicom.com.br/categoria/ppi/\n"
   ]
  },
  {
   "cell_type": "code",
   "execution_count": 1,
   "metadata": {},
   "outputs": [],
   "source": [
    "# from libraries.assets import *\n",
    "from libraries.graphcomp import *"
   ]
  },
  {
   "cell_type": "code",
   "execution_count": 2,
   "metadata": {},
   "outputs": [],
   "source": [
    "# update_data('BZ=F')\n",
    "\n",
    "# for p in range(8):\n",
    "#     df = df_period[p]\n",
    "#     df['datet'] = pd.to_datetime(df['datet']).dt.date.astype(np.datetime64)\n",
    "\n",
    "# display(df_period[1].tail(5))\n",
    "# display(df_period[6].tail(5))"
   ]
  },
  {
   "cell_type": "code",
   "execution_count": 3,
   "metadata": {},
   "outputs": [
    {
     "data": {
      "text/html": [
       "<div>\n",
       "<style scoped>\n",
       "    .dataframe tbody tr th:only-of-type {\n",
       "        vertical-align: middle;\n",
       "    }\n",
       "\n",
       "    .dataframe tbody tr th {\n",
       "        vertical-align: top;\n",
       "    }\n",
       "\n",
       "    .dataframe thead th {\n",
       "        text-align: right;\n",
       "    }\n",
       "</style>\n",
       "<table border=\"1\" class=\"dataframe\">\n",
       "  <thead>\n",
       "    <tr style=\"text-align: right;\">\n",
       "      <th></th>\n",
       "      <th>close</th>\n",
       "      <th>close_usd</th>\n",
       "      <th>close_R</th>\n",
       "    </tr>\n",
       "  </thead>\n",
       "  <tbody>\n",
       "    <tr>\n",
       "      <th>2007-08-01</th>\n",
       "      <td>72.690002</td>\n",
       "      <td>1.8920</td>\n",
       "      <td>137.529485</td>\n",
       "    </tr>\n",
       "    <tr>\n",
       "      <th>2007-09-01</th>\n",
       "      <td>79.169998</td>\n",
       "      <td>1.9681</td>\n",
       "      <td>155.814473</td>\n",
       "    </tr>\n",
       "    <tr>\n",
       "      <th>2007-10-01</th>\n",
       "      <td>90.629997</td>\n",
       "      <td>1.8110</td>\n",
       "      <td>164.130925</td>\n",
       "    </tr>\n",
       "    <tr>\n",
       "      <th>2007-11-01</th>\n",
       "      <td>88.260002</td>\n",
       "      <td>1.7476</td>\n",
       "      <td>154.243180</td>\n",
       "    </tr>\n",
       "    <tr>\n",
       "      <th>2007-12-01</th>\n",
       "      <td>93.849998</td>\n",
       "      <td>1.7982</td>\n",
       "      <td>168.761067</td>\n",
       "    </tr>\n",
       "    <tr>\n",
       "      <th>...</th>\n",
       "      <td>...</td>\n",
       "      <td>...</td>\n",
       "      <td>...</td>\n",
       "    </tr>\n",
       "    <tr>\n",
       "      <th>2022-03-03</th>\n",
       "      <td>110.459999</td>\n",
       "      <td>5.0320</td>\n",
       "      <td>555.834715</td>\n",
       "    </tr>\n",
       "    <tr>\n",
       "      <th>2022-03-04</th>\n",
       "      <td>118.110001</td>\n",
       "      <td>5.0620</td>\n",
       "      <td>597.872823</td>\n",
       "    </tr>\n",
       "    <tr>\n",
       "      <th>2022-03-07</th>\n",
       "      <td>123.209999</td>\n",
       "      <td>5.1115</td>\n",
       "      <td>629.787910</td>\n",
       "    </tr>\n",
       "    <tr>\n",
       "      <th>2022-03-08</th>\n",
       "      <td>127.980003</td>\n",
       "      <td>5.0599</td>\n",
       "      <td>647.566019</td>\n",
       "    </tr>\n",
       "    <tr>\n",
       "      <th>2022-03-09</th>\n",
       "      <td>122.809998</td>\n",
       "      <td>4.9887</td>\n",
       "      <td>612.662235</td>\n",
       "    </tr>\n",
       "  </tbody>\n",
       "</table>\n",
       "<p>1355 rows × 3 columns</p>\n",
       "</div>"
      ],
      "text/plain": [
       "                 close  close_usd     close_R\n",
       "2007-08-01   72.690002     1.8920  137.529485\n",
       "2007-09-01   79.169998     1.9681  155.814473\n",
       "2007-10-01   90.629997     1.8110  164.130925\n",
       "2007-11-01   88.260002     1.7476  154.243180\n",
       "2007-12-01   93.849998     1.7982  168.761067\n",
       "...                ...        ...         ...\n",
       "2022-03-03  110.459999     5.0320  555.834715\n",
       "2022-03-04  118.110001     5.0620  597.872823\n",
       "2022-03-07  123.209999     5.1115  629.787910\n",
       "2022-03-08  127.980003     5.0599  647.566019\n",
       "2022-03-09  122.809998     4.9887  612.662235\n",
       "\n",
       "[1355 rows x 3 columns]"
      ]
     },
     "execution_count": 3,
     "metadata": {},
     "output_type": "execute_result"
    }
   ],
   "source": [
    "mult_load_data()\n",
    "df = load_brent()\n",
    "\n",
    "df_gasol  = load_gasol()\n",
    "df_diesel = load_diesel()\n",
    "\n",
    "df"
   ]
  },
  {
   "cell_type": "code",
   "execution_count": 4,
   "metadata": {},
   "outputs": [],
   "source": [
    "from datetime import timedelta, datetime\n",
    "\n",
    "today = datetime.today()\n",
    "date_ini = datetime(day=31, month=12, year=2021)\n",
    "# date_end = today\n",
    "date_end = datetime(day= 7, month= 3, year=2022)\n",
    "\n",
    "brent_usd_ini = df[df.index <= date_ini].close.iloc[-1]\n",
    "brent_usd_end = df[df.index <= date_end].close.iloc[-1]\n",
    "brent_usd_dif = brent_usd_end - brent_usd_ini \n",
    "# print(f'{brent_usd_ini:0.2f} , {brent_usd_end:0.2f} , {brent_usd_dif:0.2f} , '\n",
    "#       f'{brent_usd_dif/brent_usd_ini*100:0.2f} %')\n",
    "\n",
    "brent_brl_ini = df[df.index <= date_ini].close_R.iloc[-1]\n",
    "brent_brl_end = df[df.index <= date_end].close_R.iloc[-1]\n",
    "brent_brl_dif = brent_brl_end - brent_brl_ini\n",
    "brent_brl_perc = brent_brl_dif/brent_brl_ini*100\n",
    "# print(f'{brent_brl_ini:0.2f} , {brent_brl_end:0.2f} , {brent_brl_dif:0.2f} , '\n",
    "#       f'{brent_brl_dif/brent_brl_ini*100:0.2f} %')\n",
    "\n",
    "brent_price = brent_brl_end\n",
    "brent_perc = brent_brl_perc\n",
    "\n",
    "diesel_old_price = df_diesel[df_diesel.index >= date_ini].iloc[ 0]['valor']\n",
    "diesel_new_price = df_diesel[df_diesel.index <= date_end].iloc[-1]['valor']\n",
    "diesel_new_price = 5.668\n",
    "diesel_diff = diesel_new_price - diesel_old_price\n",
    "diesel_perc = diesel_diff / diesel_old_price * 100\n",
    "\n",
    "gasol_old_price = df_gasol[df_gasol.index >= date_ini].iloc[ 0]['valor']\n",
    "gasol_new_price = df_gasol[df_gasol.index <= date_end].iloc[-1]['valor']\n",
    "gasol_new_price = 6.577\n",
    "gasol_diff = gasol_new_price - gasol_old_price\n",
    "gasol_perc = gasol_diff / gasol_old_price * 100\n",
    "\n",
    "diesel_ppi_perc = -40\n",
    "diesel_ppi = diesel_new_price / (1 + diesel_ppi_perc/100)\n",
    "\n",
    "gasol_ppi_perc = -30\n",
    "gasol_ppi = gasol_new_price / (1 + gasol_ppi_perc/100) "
   ]
  },
  {
   "cell_type": "code",
   "execution_count": 6,
   "metadata": {},
   "outputs": [
    {
     "name": "stdout",
     "output_type": "stream",
     "text": [
      "Brent;42.75;R$ 629.79\n",
      "Diesel<br>na Bomba;5.59;R$ 5.67\n",
      "Gasolina<br>na Bomba;-0.36;R$ 6.58\n",
      "Defasagem<br>Diesel PPI;-40.00;R$ 9.45\n",
      "Defasagem<br>Gasolina PPI;-30.00;R$ 9.40\n"
     ]
    }
   ],
   "source": [
    "print(f'Brent;{brent_perc:0.2f};R$ {brent_price:0.2f}')\n",
    "print(f'Diesel<br>na Bomba;{diesel_perc:0.2f};R$ {diesel_new_price:0.2f}')\n",
    "print(f'Gasolina<br>na Bomba;{gasol_perc:0.2f};R$ {gasol_new_price:0.2f}')\n",
    "print(f'Defasagem<br>Diesel PPI;{diesel_ppi_perc:0.2f};R$ {diesel_ppi:0.2f}')\n",
    "print(f'Defasagem<br>Gasolina PPI;{gasol_ppi_perc:0.2f};R$ {gasol_ppi:0.2f}')"
   ]
  },
  {
   "cell_type": "code",
   "execution_count": null,
   "metadata": {},
   "outputs": [],
   "source": []
  }
 ],
 "metadata": {
  "interpreter": {
   "hash": "faf6c69920549bf4550f22612c1be009aa34314c4fa03cee7be9173d849af02c"
  },
  "kernelspec": {
   "display_name": "Python 3.9.10 64-bit (windows store)",
   "language": "python",
   "name": "python3"
  },
  "language_info": {
   "codemirror_mode": {
    "name": "ipython",
    "version": 3
   },
   "file_extension": ".py",
   "mimetype": "text/x-python",
   "name": "python",
   "nbconvert_exporter": "python",
   "pygments_lexer": "ipython3",
   "version": "3.9.10"
  },
  "orig_nbformat": 4
 },
 "nbformat": 4,
 "nbformat_minor": 2
}
